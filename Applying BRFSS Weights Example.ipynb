{
  "nbformat": 4,
  "nbformat_minor": 0,
  "metadata": {
    "colab": {
      "cell_execution_strategy": "setup",
      "provenance": [],
      "name": "Applying BRFSS Weights Example"
    },
    "kernelspec": {
      "name": "python3",
      "display_name": "Python 3"
    },
    "language_info": {
      "name": "python"
    }
  },
  "cells": [
    {
      "cell_type": "markdown",
      "source": [
        "\n",
        "#Applying BRFSS Weights Example"
      ],
      "metadata": {
        "id": "Cy2wtsoz7lOy"
      }
    },
    {
      "cell_type": "markdown",
      "source": [
        "This notebook demonstrates how to convert BRFSS data from their integers to strings and apply weights to calculate weighted percentages from a demographic column. We've already injected the BRFSS data into a [BigQuery table](https://console.cloud.google.com/bigquery?ws=!1m5!1m4!4m3!1srci-flotus!2sCDC!3sbrfss_2022) through the '+ Add' button via a DataPrep job. We downloaded the data from the CDC BRFSS website. It required a little bit of cleanup - we had to modify a couple of column names to remove some special characters.\n",
        "The end results gets written to a [BigQuery table](https://console.cloud.google.com/bigquery?ws=!1m5!1m4!4m3!1srci-flotus!2sCDC!3sweighted_demo).\n",
        "\n",
        "\n"
      ],
      "metadata": {
        "id": "7DkbKTtKCwQu"
      }
    },
    {
      "cell_type": "markdown",
      "source": [
        "Install required packages"
      ],
      "metadata": {
        "id": "xdkSCUGB_HuC"
      }
    },
    {
      "cell_type": "code",
      "source": [
        "!pip install google-cloud-bigquery pydata-google-auth"
      ],
      "metadata": {
        "colab": {
          "base_uri": "https://localhost:8080/"
        },
        "collapsed": true,
        "id": "ssNOvHPK-7hx",
        "executionInfo": {
          "status": "ok",
          "timestamp": 1732315531375,
          "user_tz": 420,
          "elapsed": 7245,
          "user": {
            "displayName": "",
            "userId": ""
          }
        },
        "outputId": "e92d1901-1a2a-45b4-a4d2-4a1570c9b766"
      },
      "execution_count": null,
      "outputs": [
        {
          "output_type": "stream",
          "name": "stdout",
          "text": [
            "Requirement already satisfied: google-cloud-bigquery in /usr/local/lib/python3.10/dist-packages (3.25.0)\n",
            "Requirement already satisfied: pydata-google-auth in /usr/local/lib/python3.10/dist-packages (1.8.2)\n",
            "Requirement already satisfied: google-api-core!=2.0.*,!=2.1.*,!=2.10.*,!=2.2.*,!=2.3.*,!=2.4.*,!=2.5.*,!=2.6.*,!=2.7.*,!=2.8.*,!=2.9.*,<3.0.0dev,>=1.34.1 in /usr/local/lib/python3.10/dist-packages (from google-api-core[grpc]!=2.0.*,!=2.1.*,!=2.10.*,!=2.2.*,!=2.3.*,!=2.4.*,!=2.5.*,!=2.6.*,!=2.7.*,!=2.8.*,!=2.9.*,<3.0.0dev,>=1.34.1->google-cloud-bigquery) (2.19.2)\n",
            "Requirement already satisfied: google-auth<3.0.0dev,>=2.14.1 in /usr/local/lib/python3.10/dist-packages (from google-cloud-bigquery) (2.27.0)\n",
            "Requirement already satisfied: google-cloud-core<3.0.0dev,>=1.6.0 in /usr/local/lib/python3.10/dist-packages (from google-cloud-bigquery) (2.4.1)\n",
            "Requirement already satisfied: google-resumable-media<3.0dev,>=0.6.0 in /usr/local/lib/python3.10/dist-packages (from google-cloud-bigquery) (2.7.2)\n",
            "Requirement already satisfied: packaging>=20.0.0 in /usr/local/lib/python3.10/dist-packages (from google-cloud-bigquery) (24.2)\n",
            "Requirement already satisfied: python-dateutil<3.0dev,>=2.7.2 in /usr/local/lib/python3.10/dist-packages (from google-cloud-bigquery) (2.8.2)\n",
            "Requirement already satisfied: requests<3.0.0dev,>=2.21.0 in /usr/local/lib/python3.10/dist-packages (from google-cloud-bigquery) (2.32.3)\n",
            "Requirement already satisfied: setuptools in /usr/local/lib/python3.10/dist-packages (from pydata-google-auth) (69.5.1)\n",
            "Requirement already satisfied: google-auth-oauthlib>=0.4.0 in /usr/local/lib/python3.10/dist-packages (from pydata-google-auth) (1.2.1)\n",
            "Requirement already satisfied: googleapis-common-protos<2.0.dev0,>=1.56.2 in /usr/local/lib/python3.10/dist-packages (from google-api-core!=2.0.*,!=2.1.*,!=2.10.*,!=2.2.*,!=2.3.*,!=2.4.*,!=2.5.*,!=2.6.*,!=2.7.*,!=2.8.*,!=2.9.*,<3.0.0dev,>=1.34.1->google-api-core[grpc]!=2.0.*,!=2.1.*,!=2.10.*,!=2.2.*,!=2.3.*,!=2.4.*,!=2.5.*,!=2.6.*,!=2.7.*,!=2.8.*,!=2.9.*,<3.0.0dev,>=1.34.1->google-cloud-bigquery) (1.65.0)\n",
            "Requirement already satisfied: protobuf!=3.20.0,!=3.20.1,!=4.21.0,!=4.21.1,!=4.21.2,!=4.21.3,!=4.21.4,!=4.21.5,<6.0.0.dev0,>=3.19.5 in /usr/local/lib/python3.10/dist-packages (from google-api-core!=2.0.*,!=2.1.*,!=2.10.*,!=2.2.*,!=2.3.*,!=2.4.*,!=2.5.*,!=2.6.*,!=2.7.*,!=2.8.*,!=2.9.*,<3.0.0dev,>=1.34.1->google-api-core[grpc]!=2.0.*,!=2.1.*,!=2.10.*,!=2.2.*,!=2.3.*,!=2.4.*,!=2.5.*,!=2.6.*,!=2.7.*,!=2.8.*,!=2.9.*,<3.0.0dev,>=1.34.1->google-cloud-bigquery) (4.25.5)\n",
            "Requirement already satisfied: proto-plus<2.0.0dev,>=1.22.3 in /usr/local/lib/python3.10/dist-packages (from google-api-core!=2.0.*,!=2.1.*,!=2.10.*,!=2.2.*,!=2.3.*,!=2.4.*,!=2.5.*,!=2.6.*,!=2.7.*,!=2.8.*,!=2.9.*,<3.0.0dev,>=1.34.1->google-api-core[grpc]!=2.0.*,!=2.1.*,!=2.10.*,!=2.2.*,!=2.3.*,!=2.4.*,!=2.5.*,!=2.6.*,!=2.7.*,!=2.8.*,!=2.9.*,<3.0.0dev,>=1.34.1->google-cloud-bigquery) (1.25.0)\n",
            "Requirement already satisfied: grpcio<2.0dev,>=1.33.2 in /usr/local/lib/python3.10/dist-packages (from google-api-core[grpc]!=2.0.*,!=2.1.*,!=2.10.*,!=2.2.*,!=2.3.*,!=2.4.*,!=2.5.*,!=2.6.*,!=2.7.*,!=2.8.*,!=2.9.*,<3.0.0dev,>=1.34.1->google-cloud-bigquery) (1.67.1)\n",
            "Requirement already satisfied: grpcio-status<2.0.dev0,>=1.33.2 in /usr/local/lib/python3.10/dist-packages (from google-api-core[grpc]!=2.0.*,!=2.1.*,!=2.10.*,!=2.2.*,!=2.3.*,!=2.4.*,!=2.5.*,!=2.6.*,!=2.7.*,!=2.8.*,!=2.9.*,<3.0.0dev,>=1.34.1->google-cloud-bigquery) (1.62.3)\n",
            "Requirement already satisfied: cachetools<6.0,>=2.0.0 in /usr/local/lib/python3.10/dist-packages (from google-auth<3.0.0dev,>=2.14.1->google-cloud-bigquery) (5.5.0)\n",
            "Requirement already satisfied: pyasn1-modules>=0.2.1 in /usr/local/lib/python3.10/dist-packages (from google-auth<3.0.0dev,>=2.14.1->google-cloud-bigquery) (0.4.1)\n",
            "Requirement already satisfied: rsa<5,>=3.1.4 in /usr/local/lib/python3.10/dist-packages (from google-auth<3.0.0dev,>=2.14.1->google-cloud-bigquery) (4.9)\n",
            "Requirement already satisfied: requests-oauthlib>=0.7.0 in /usr/local/lib/python3.10/dist-packages (from google-auth-oauthlib>=0.4.0->pydata-google-auth) (1.3.1)\n",
            "Requirement already satisfied: google-crc32c<2.0dev,>=1.0 in /usr/local/lib/python3.10/dist-packages (from google-resumable-media<3.0dev,>=0.6.0->google-cloud-bigquery) (1.6.0)\n",
            "Requirement already satisfied: six>=1.5 in /usr/local/lib/python3.10/dist-packages (from python-dateutil<3.0dev,>=2.7.2->google-cloud-bigquery) (1.16.0)\n",
            "Requirement already satisfied: charset-normalizer<4,>=2 in /usr/local/lib/python3.10/dist-packages (from requests<3.0.0dev,>=2.21.0->google-cloud-bigquery) (3.4.0)\n",
            "Requirement already satisfied: idna<4,>=2.5 in /usr/local/lib/python3.10/dist-packages (from requests<3.0.0dev,>=2.21.0->google-cloud-bigquery) (3.10)\n",
            "Requirement already satisfied: urllib3<3,>=1.21.1 in /usr/local/lib/python3.10/dist-packages (from requests<3.0.0dev,>=2.21.0->google-cloud-bigquery) (2.2.3)\n",
            "Requirement already satisfied: certifi>=2017.4.17 in /usr/local/lib/python3.10/dist-packages (from requests<3.0.0dev,>=2.21.0->google-cloud-bigquery) (2024.8.30)\n",
            "Requirement already satisfied: pyasn1<0.7.0,>=0.4.6 in /usr/local/lib/python3.10/dist-packages (from pyasn1-modules>=0.2.1->google-auth<3.0.0dev,>=2.14.1->google-cloud-bigquery) (0.6.1)\n",
            "Requirement already satisfied: oauthlib>=3.0.0 in /usr/local/lib/python3.10/dist-packages (from requests-oauthlib>=0.7.0->google-auth-oauthlib>=0.4.0->pydata-google-auth) (3.2.2)\n"
          ]
        }
      ]
    },
    {
      "cell_type": "markdown",
      "source": [
        "Import necessary libraries\n",
        "\n"
      ],
      "metadata": {
        "id": "HyTuSpHT_bki"
      }
    },
    {
      "cell_type": "code",
      "source": [
        "import pandas as pd\n",
        "from google.cloud import bigquery"
      ],
      "metadata": {
        "id": "Me9v5WUSObDb"
      },
      "execution_count": null,
      "outputs": []
    },
    {
      "cell_type": "markdown",
      "source": [
        "Initiate BigQuery client to run queries with"
      ],
      "metadata": {
        "id": "hYhoNf3L7-sq"
      }
    },
    {
      "cell_type": "code",
      "source": [
        "client = bigquery.Client()"
      ],
      "metadata": {
        "id": "5XMENfUJ_lyn"
      },
      "execution_count": null,
      "outputs": []
    },
    {
      "cell_type": "markdown",
      "source": [
        "Set your variables for BigQuery table to use\n"
      ],
      "metadata": {
        "id": "r8QcPkla8Gxv"
      }
    },
    {
      "cell_type": "code",
      "source": [
        "PROJECT_ID = 'rci-flotus'\n",
        "TABLE_ID = 'CDC.brfss_2022'"
      ],
      "metadata": {
        "id": "AZn4j9KBAEp8"
      },
      "execution_count": null,
      "outputs": []
    },
    {
      "cell_type": "markdown",
      "source": [
        "Define query"
      ],
      "metadata": {
        "id": "ZED0n1fi9mV_"
      }
    },
    {
      "cell_type": "code",
      "source": [
        "query = f\"\"\"\n",
        "SELECT\n",
        "  id,\n",
        "  ageg5yr,\n",
        "  llcpwt\n",
        "FROM\n",
        "  `{PROJECT_ID}.{TABLE_ID}`\n",
        "\"\"\"\n"
      ],
      "metadata": {
        "id": "ECqEp8kYc0IT"
      },
      "execution_count": null,
      "outputs": []
    },
    {
      "cell_type": "markdown",
      "source": [
        "Create a map to convert BRFSS ints to their values. You can find these values (including ranges of integers) using the [brfss codebook found on the CDC website](https://www.cdc.gov/brfss/annual_data/annual_2022.html)."
      ],
      "metadata": {
        "id": "zFU-7umS9xpa"
      }
    },
    {
      "cell_type": "code",
      "source": [
        "int_values = [1, 2, 3, 4, 5, 6, 7, 8, 9, 10, 11, 12, 13, 14]\n",
        "int_to_string_map = {\n",
        "    1: '18 - 24',\n",
        "    2: '25 - 29',\n",
        "    3: '30 - 34',\n",
        "    4: '35 - 39',\n",
        "    5: '40 - 44',\n",
        "    6: '45 - 49',\n",
        "    7: '50 - 54',\n",
        "    8: '55 - 59',\n",
        "    9: '60 - 64',\n",
        "    10: '65 - 69',\n",
        "    11: '70 - 74',\n",
        "    12: '75 - 79',\n",
        "    13: '80+',\n",
        "    14: 'N/A'\n",
        "}"
      ],
      "metadata": {
        "id": "9lOd_ztZ8bO_"
      },
      "execution_count": null,
      "outputs": []
    },
    {
      "cell_type": "markdown",
      "source": [
        "Define our functions for calculating weighted percentages and mapping the values using our maps above.\n",
        "\n"
      ],
      "metadata": {
        "id": "RUVeZQdH-e6b"
      }
    },
    {
      "cell_type": "code",
      "source": [
        "def weighted_percentage(data, numeric_column, weight_column):\n",
        "    valid_data = data.dropna(subset=[numeric_column])\n",
        "\n",
        "    # Calculate the weighted percentage as a Series. Normally we'd multiply\n",
        "    # the value of each row by the weight in the divisor, however, since\n",
        "    # we're looking at demographic values, each value is essentially 1 (i.e.)\n",
        "    # I'm between 18-24 and that only gets counted once.\n",
        "    weighted_percent = (valid_data[weight_column]\n",
        "                        .groupby(valid_data[numeric_column]).sum()\n",
        "                        / valid_data[weight_column].sum() * 100\n",
        "                       ).sort_values(ascending=False)\n",
        "\n",
        "    # Convert the Series to a DataFrame and rename the column\n",
        "    weighted_percentage_df = weighted_percent.reset_index()\n",
        "\n",
        "    # Rename the column to reflect the weighted percent calculation\n",
        "    weighted_percentage_df.columns = [numeric_column, 'weighted_percentage']\n",
        "\n",
        "    return weighted_percentage_df\n",
        "\n",
        "# Function to map integers to strings using the dictionary\n",
        "def map_integers_to_strings(int_list, mapping_dict):\n",
        "    return [mapping_dict.get(i, 'Unknown') for i in int_list]"
      ],
      "metadata": {
        "id": "V1JXtKsT-fPY"
      },
      "execution_count": null,
      "outputs": []
    },
    {
      "cell_type": "markdown",
      "source": [
        "Create a Pandas dataframe using the query\n",
        "\n"
      ],
      "metadata": {
        "id": "dbf_EuFI-rN9"
      }
    },
    {
      "cell_type": "code",
      "source": [
        "df = client.query(query).to_dataframe()\n",
        "# print number of rows in dataframe\n",
        "print(df.index.size)"
      ],
      "metadata": {
        "id": "m_vVEA6d-rZJ",
        "colab": {
          "base_uri": "https://localhost:8080/"
        },
        "executionInfo": {
          "status": "ok",
          "timestamp": 1732315541812,
          "user_tz": 420,
          "elapsed": 1900,
          "user": {
            "displayName": "",
            "userId": ""
          }
        },
        "outputId": "57f94318-e9ed-4952-a6e4-da0839a798ba"
      },
      "execution_count": null,
      "outputs": [
        {
          "output_type": "stream",
          "name": "stdout",
          "text": [
            "50\n"
          ]
        }
      ]
    },
    {
      "cell_type": "markdown",
      "source": [
        "Calculate the frequency and percentage of each row, unweighted. We'll also map the description values from the integer values for a more informative result. We'll choose \"AGEG5YR\" - a column whose value corresponds to an age range (e.g. 30 - 34)."
      ],
      "metadata": {
        "id": "HpZ8guRm-50w"
      }
    },
    {
      "cell_type": "code",
      "source": [
        "# Map the description values with the integer values\n",
        "df['ageg5yr_mapped'] = df['ageg5yr'].map(int_to_string_map)\n",
        "\n",
        "# Frequency calculation\n",
        "frequency = df['ageg5yr_mapped'].value_counts().reset_index()\n",
        "frequency.columns = ['value_label', 'frequency']\n",
        "\n",
        "# Total count for percentage calculation\n",
        "total_count = len(df)\n",
        "frequency['percentage'] = (frequency['frequency'] / total_count) * 100\n",
        "\n",
        "print(frequency)"
      ],
      "metadata": {
        "id": "QEm1Pc1j-565",
        "colab": {
          "base_uri": "https://localhost:8080/"
        },
        "executionInfo": {
          "status": "ok",
          "timestamp": 1732315541812,
          "user_tz": 420,
          "elapsed": 5,
          "user": {
            "displayName": "",
            "userId": ""
          }
        },
        "outputId": "494728e8-2033-447b-d071-e60e71a26362"
      },
      "execution_count": null,
      "outputs": [
        {
          "output_type": "stream",
          "name": "stdout",
          "text": [
            "   value_label  frequency  percentage\n",
            "0      60 - 64          6        12.0\n",
            "1      40 - 44          5        10.0\n",
            "2      65 - 69          5        10.0\n",
            "3      45 - 49          5        10.0\n",
            "4      55 - 59          5        10.0\n",
            "5      18 - 24          5        10.0\n",
            "6      30 - 34          4         8.0\n",
            "7      70 - 74          3         6.0\n",
            "8      75 - 79          3         6.0\n",
            "9      50 - 54          3         6.0\n",
            "10     25 - 29          2         4.0\n",
            "11     35 - 39          2         4.0\n",
            "12         N/A          1         2.0\n",
            "13         80+          1         2.0\n"
          ]
        }
      ]
    },
    {
      "cell_type": "markdown",
      "source": [
        "Calculate the weighted percentages using our function. We'll also map the integer values to the description values using our maps, for a more informative result."
      ],
      "metadata": {
        "id": "xKlMHksdaxyY"
      }
    },
    {
      "cell_type": "code",
      "source": [
        "# Use the weighted_percentage function, but pass the original numeric column\n",
        "weighted_percentage_result = weighted_percentage(df, 'ageg5yr', 'llcpwt')\n",
        "weighted_percentage_result['value_label'] = weighted_percentage_result['ageg5yr'].map(int_to_string_map)\n",
        "weighted_percentage_result = weighted_percentage_result[['value_label', 'weighted_percentage']]\n",
        "\n",
        "print(weighted_percentage_result)\n"
      ],
      "metadata": {
        "colab": {
          "base_uri": "https://localhost:8080/"
        },
        "id": "110Hxbu0ax3e",
        "executionInfo": {
          "status": "ok",
          "timestamp": 1732315541813,
          "user_tz": 420,
          "elapsed": 5,
          "user": {
            "displayName": "",
            "userId": ""
          }
        },
        "outputId": "c4b5df7d-88db-4632-a576-4fcd5e7e6aa1"
      },
      "execution_count": null,
      "outputs": [
        {
          "output_type": "stream",
          "name": "stdout",
          "text": [
            "   value_label  weighted_percentage\n",
            "0      18 - 24            16.482774\n",
            "1      30 - 34            13.987612\n",
            "2      40 - 44            12.814590\n",
            "3      50 - 54            11.569552\n",
            "4      45 - 49             9.932120\n",
            "5      55 - 59             6.392023\n",
            "6      35 - 39             6.017969\n",
            "7      60 - 64             5.728505\n",
            "8      25 - 29             5.037731\n",
            "9      65 - 69             5.035625\n",
            "10     70 - 74             3.595042\n",
            "11     75 - 79             1.512207\n",
            "12         N/A             1.306408\n",
            "13         80+             0.587843\n"
          ]
        }
      ]
    },
    {
      "cell_type": "markdown",
      "source": [
        "Merge the frequency table with the weighted percentages table"
      ],
      "metadata": {
        "id": "XSxKnmtFbJZV"
      }
    },
    {
      "cell_type": "code",
      "source": [
        "# Merge the frequency data with the weighted percentages\n",
        "result = pd.merge(frequency, weighted_percentage_result, on='value_label')\n",
        "print(result)"
      ],
      "metadata": {
        "colab": {
          "base_uri": "https://localhost:8080/"
        },
        "id": "uXTrW2ebbJpt",
        "executionInfo": {
          "status": "ok",
          "timestamp": 1732315541813,
          "user_tz": 420,
          "elapsed": 4,
          "user": {
            "displayName": "",
            "userId": ""
          }
        },
        "outputId": "0d5a1b6b-2024-48db-a4c1-0185758c6478"
      },
      "execution_count": null,
      "outputs": [
        {
          "output_type": "stream",
          "name": "stdout",
          "text": [
            "   value_label  frequency  percentage  weighted_percentage\n",
            "0      60 - 64          6        12.0             5.728505\n",
            "1      40 - 44          5        10.0            12.814590\n",
            "2      65 - 69          5        10.0             5.035625\n",
            "3      45 - 49          5        10.0             9.932120\n",
            "4      55 - 59          5        10.0             6.392023\n",
            "5      18 - 24          5        10.0            16.482774\n",
            "6      30 - 34          4         8.0            13.987612\n",
            "7      70 - 74          3         6.0             3.595042\n",
            "8      75 - 79          3         6.0             1.512207\n",
            "9      50 - 54          3         6.0            11.569552\n",
            "10     25 - 29          2         4.0             5.037731\n",
            "11     35 - 39          2         4.0             6.017969\n",
            "12         N/A          1         2.0             1.306408\n",
            "13         80+          1         2.0             0.587843\n"
          ]
        }
      ]
    },
    {
      "cell_type": "markdown",
      "source": [
        "We've now fetched data out of BigQuery and applied weights to demographic data! As you can see, the weighted percentages indicate that the sample set skewed older than the actual population."
      ],
      "metadata": {
        "id": "9Nzk6NRHb8Bd"
      }
    },
    {
      "cell_type": "markdown",
      "source": [
        "Finally, let's take result and create a big query table out of it."
      ],
      "metadata": {
        "id": "OVQt0_izlnk_"
      }
    },
    {
      "cell_type": "code",
      "source": [
        "job = client.load_table_from_dataframe(\n",
        "    result,\n",
        "    'rci-flotus.CDC.weighted_demo',\n",
        "    job_config=bigquery.LoadJobConfig(\n",
        "        write_disposition=\"WRITE_TRUNCATE\"  # Overwrite the table if it exists\n",
        "    ),\n",
        ")\n",
        "\n",
        "# Wait for the job to complete\n",
        "job.result()"
      ],
      "metadata": {
        "colab": {
          "base_uri": "https://localhost:8080/"
        },
        "id": "LpjQQskLln2t",
        "executionInfo": {
          "status": "ok",
          "timestamp": 1732315545620,
          "user_tz": 420,
          "elapsed": 3811,
          "user": {
            "displayName": "",
            "userId": ""
          }
        },
        "outputId": "4a6be770-66ef-4397-e62c-d258b13e4ebc"
      },
      "execution_count": null,
      "outputs": [
        {
          "output_type": "execute_result",
          "data": {
            "text/plain": [
              "LoadJob<project=rci-flotus, location=US, id=6c21b697-8122-4180-9cad-086c4ea57f22>"
            ]
          },
          "metadata": {},
          "execution_count": 12
        }
      ]
    }
  ]
}