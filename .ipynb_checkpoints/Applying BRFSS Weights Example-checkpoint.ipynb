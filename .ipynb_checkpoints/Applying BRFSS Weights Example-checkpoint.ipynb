{
 "cells": [
  {
   "cell_type": "markdown",
   "metadata": {
    "id": "Cy2wtsoz7lOy"
   },
   "source": [
    "# Applying BRFSS Weights Example"
   ]
  },
  {
   "cell_type": "markdown",
   "metadata": {
    "id": "7DkbKTtKCwQu"
   },
   "source": [
    "This notebook demonstrates how to convert BRFSS data from their integers to strings and apply weights to calculate weighted percentages from a demographic field.\n",
    "The end results gets visualized as a chart, comparing the unweighted and weighted percentages of total.\n",
    "\n"
   ]
  },
  {
   "cell_type": "markdown",
   "metadata": {
    "id": "xdkSCUGB_HuC"
   },
   "source": [
    "Install required packages"
   ]
  },
  {
   "cell_type": "code",
   "execution_count": 1,
   "metadata": {
    "colab": {
     "base_uri": "https://localhost:8080/"
    },
    "executionInfo": {
     "elapsed": 7245,
     "status": "ok",
     "timestamp": 1732315531375,
     "user": {
      "displayName": "",
      "userId": ""
     },
     "user_tz": 420
    },
    "id": "ssNOvHPK-7hx",
    "outputId": "e92d1901-1a2a-45b4-a4d2-4a1570c9b766",
    "scrolled": true
   },
   "outputs": [
    {
     "name": "stdout",
     "output_type": "stream",
     "text": [
      "Requirement already satisfied: pandas in /Users/markbuckner/.pyenv/versions/3.10.3/lib/python3.10/site-packages (2.2.2)\n",
      "Requirement already satisfied: pyreadstat in /Users/markbuckner/.pyenv/versions/3.10.3/lib/python3.10/site-packages (1.2.8)\n",
      "Requirement already satisfied: matplotlib in /Users/markbuckner/.pyenv/versions/3.10.3/lib/python3.10/site-packages (3.9.2)\n",
      "Requirement already satisfied: seaborn in /Users/markbuckner/.pyenv/versions/3.10.3/lib/python3.10/site-packages (0.13.2)\n",
      "Requirement already satisfied: numpy>=1.22.4 in /Users/markbuckner/.pyenv/versions/3.10.3/lib/python3.10/site-packages (from pandas) (2.1.1)\n",
      "Requirement already satisfied: python-dateutil>=2.8.2 in /Users/markbuckner/.pyenv/versions/3.10.3/lib/python3.10/site-packages (from pandas) (2.9.0.post0)\n",
      "Requirement already satisfied: pytz>=2020.1 in /Users/markbuckner/.pyenv/versions/3.10.3/lib/python3.10/site-packages (from pandas) (2024.2)\n",
      "Requirement already satisfied: tzdata>=2022.7 in /Users/markbuckner/.pyenv/versions/3.10.3/lib/python3.10/site-packages (from pandas) (2024.1)\n",
      "Requirement already satisfied: contourpy>=1.0.1 in /Users/markbuckner/.pyenv/versions/3.10.3/lib/python3.10/site-packages (from matplotlib) (1.3.0)\n",
      "Requirement already satisfied: cycler>=0.10 in /Users/markbuckner/.pyenv/versions/3.10.3/lib/python3.10/site-packages (from matplotlib) (0.12.1)\n",
      "Requirement already satisfied: fonttools>=4.22.0 in /Users/markbuckner/.pyenv/versions/3.10.3/lib/python3.10/site-packages (from matplotlib) (4.53.1)\n",
      "Requirement already satisfied: kiwisolver>=1.3.1 in /Users/markbuckner/.pyenv/versions/3.10.3/lib/python3.10/site-packages (from matplotlib) (1.4.7)\n",
      "Requirement already satisfied: packaging>=20.0 in /Users/markbuckner/.pyenv/versions/3.10.3/lib/python3.10/site-packages (from matplotlib) (23.2)\n",
      "Requirement already satisfied: pillow>=8 in /Users/markbuckner/.pyenv/versions/3.10.3/lib/python3.10/site-packages (from matplotlib) (10.2.0)\n",
      "Requirement already satisfied: pyparsing>=2.3.1 in /Users/markbuckner/.pyenv/versions/3.10.3/lib/python3.10/site-packages (from matplotlib) (3.1.4)\n",
      "Requirement already satisfied: six>=1.5 in /Users/markbuckner/.pyenv/versions/3.10.3/lib/python3.10/site-packages (from python-dateutil>=2.8.2->pandas) (1.16.0)\n",
      "\n",
      "\u001b[1m[\u001b[0m\u001b[34;49mnotice\u001b[0m\u001b[1;39;49m]\u001b[0m\u001b[39;49m A new release of pip is available: \u001b[0m\u001b[31;49m24.2\u001b[0m\u001b[39;49m -> \u001b[0m\u001b[32;49m24.3.1\u001b[0m\n",
      "\u001b[1m[\u001b[0m\u001b[34;49mnotice\u001b[0m\u001b[1;39;49m]\u001b[0m\u001b[39;49m To update, run: \u001b[0m\u001b[32;49mpip install --upgrade pip\u001b[0m\n"
     ]
    }
   ],
   "source": [
    "!pip install pandas pyreadstat matplotlib seaborn"
   ]
  },
  {
   "cell_type": "markdown",
   "metadata": {},
   "source": [
    "It's recommended that you download the BRFSS 2023 data from the [CDC site](https://www.cdc.gov/brfss/annual_data/annual_2023.html). It's too big to include in a github repo, so you'll need to download the XPT file (the SAS file) and store it somewhere locally. You'll fill in the path variable below with where it lives. We've also included a sample csv file that contains the first 100 rows of brfss data, in case you just want to see how things work.   "
   ]
  },
  {
   "cell_type": "code",
   "execution_count": 2,
   "metadata": {},
   "outputs": [],
   "source": [
    "# Add your file path for the xpt file you downloaded from CDC. e.g. xptInputFilePath = './LLCP2023.XPT \n",
    "xptInputFilePath = ''\n",
    "\n",
    "# For whatever reason, whitespace was being added to the end of the filename after download.\n",
    "xptInputFilePath = xptInputFilePath.strip()"
   ]
  },
  {
   "cell_type": "markdown",
   "metadata": {},
   "source": [
    "If you downloaded the XPT file, we'll convert it to a csv file. If you didn't, we'll use the sample csv file."
   ]
  },
  {
   "cell_type": "code",
   "execution_count": 3,
   "metadata": {},
   "outputs": [
    {
     "name": "stdout",
     "output_type": "stream",
     "text": [
      "Could not find imported CDC file. Will default to sample slice.\n",
      "\n",
      "First few rows:\n",
      "   _STATE  FMONTH    IDATE  IMONTH  IDAY  IYEAR  DISPCODE       SEQNO  \\\n",
      "0     1.0     1.0  3012023       3     1   2023    1100.0  2023000001   \n",
      "1     1.0     1.0  1062023       1     6   2023    1100.0  2023000002   \n",
      "2     1.0     1.0  3082023       3     8   2023    1100.0  2023000003   \n",
      "3     1.0     1.0  3062023       3     6   2023    1100.0  2023000004   \n",
      "4     1.0     1.0  1062023       1     6   2023    1100.0  2023000005   \n",
      "\n",
      "           _PSU  CTELENM1  ...  _RFBING6  _DRNKWK2  _RFDRHV8  _FLSHOT7  \\\n",
      "0  2.023000e+09       1.0  ...       1.0       0.0       1.0       2.0   \n",
      "1  2.023000e+09       1.0  ...       1.0       0.0       1.0       1.0   \n",
      "2  2.023000e+09       1.0  ...       1.0       0.0       1.0       1.0   \n",
      "3  2.023000e+09       1.0  ...       1.0       0.0       1.0       1.0   \n",
      "4  2.023000e+09       1.0  ...       1.0      47.0       1.0       2.0   \n",
      "\n",
      "   _PNEUMO3  _AIDTST4  _RFSEAT2  _RFSEAT3  _DRNKDRV  ageg5yr_mapped  \n",
      "0       2.0       2.0       1.0       1.0       9.0             80+  \n",
      "1       1.0       2.0       1.0       1.0       9.0             80+  \n",
      "2       1.0       2.0       1.0       1.0       9.0             80+  \n",
      "3       1.0       1.0       1.0       1.0       9.0         75 - 79  \n",
      "4       1.0       2.0       1.0       1.0       2.0         75 - 79  \n",
      "\n",
      "[5 rows x 351 columns]\n",
      "\n",
      "Column details:\n",
      "<class 'pandas.core.frame.DataFrame'>\n",
      "RangeIndex: 100 entries, 0 to 99\n",
      "Columns: 351 entries, _STATE to ageg5yr_mapped\n",
      "dtypes: float64(345), int64(5), object(1)\n",
      "memory usage: 274.3+ KB\n"
     ]
    }
   ],
   "source": [
    "import pyreadstat\n",
    "import os\n",
    "import pandas as pd\n",
    "\n",
    "def convert_brfss_xpt_to_csv(xpt_file_path, output_dir=None):\n",
    "    \"\"\"\n",
    "    Convert CDC BRFSS XPT file to CSV\n",
    "    \n",
    "    Parameters:\n",
    "    -----------\n",
    "    xpt_file_path : str\n",
    "        Path to the BRFSS XPT file\n",
    "    output_dir : str, optional\n",
    "        Directory to save the output CSV\n",
    "    \n",
    "    Returns:\n",
    "    --------\n",
    "    pandas.DataFrame: Converted data\n",
    "    \"\"\"\n",
    "    full_xpt_path = os.path.abspath(os.path.expanduser(xpt_file_path))\n",
    "    \n",
    "    # Determine output directory\n",
    "    if output_dir is None:\n",
    "        output_dir = os.path.dirname(full_xpt_path)\n",
    "    \n",
    "    # Create output filename\n",
    "    base_filename = os.path.basename(full_xpt_path)\n",
    "    output_filename = os.path.splitext(base_filename)[0] + '.csv'\n",
    "    output_path = os.path.join(output_dir, output_filename)\n",
    "    \n",
    " \n",
    "    df, meta = pyreadstat.read_xport(full_xpt_path, encoding='cp1252')\n",
    "\n",
    "    df.to_csv(output_path, index=False, encoding='utf-8')\n",
    "            \n",
    "    print(f\"Successfully converted {full_xpt_path} to {output_path}\")\n",
    "            \n",
    "    print(\"\\nDataset Information:\")\n",
    "    print(f\"Total rows: {len(df)}\")\n",
    "    print(f\"Total columns: {len(df.columns)}\")\n",
    "    print(\"\\nColumn names:\")\n",
    "    print(df.columns.tolist())\n",
    "            \n",
    "    return df\n",
    "\n",
    "# If you've downloaded the CDC data and stored it, we'll use that. Otherwise, we can use the\n",
    "# sample slice of brfss data.\n",
    "if os.path.exists(xptInputFilePath):\n",
    "    df = convert_brfss_xpt_to_csv(xptInputFilePath)\n",
    "else:\n",
    "    print(\"Could not find imported CDC file. Will default to sample slice.\")\n",
    "    df = pd.read_csv('./first_100_rows_brfss_2023.csv')\n",
    "\n",
    "if df is not None:\n",
    "    print(\"\\nFirst few rows:\")\n",
    "    print(df.head())\n",
    "    print(\"\\nColumn details:\")\n",
    "    df.info()"
   ]
  },
  {
   "cell_type": "markdown",
   "metadata": {
    "id": "ZED0n1fi9mV_"
   },
   "source": [
    "Define query"
   ]
  },
  {
   "cell_type": "markdown",
   "metadata": {
    "id": "RUVeZQdH-e6b"
   },
   "source": [
    "Define our functions for calculating weighted percentages and mapping the values using our hash table from above."
   ]
  },
  {
   "cell_type": "code",
   "execution_count": 4,
   "metadata": {
    "id": "V1JXtKsT-fPY"
   },
   "outputs": [],
   "source": [
    "def weighted_percentage(data, numeric_column, weight_column):\n",
    "    valid_data = data.dropna(subset=[numeric_column])\n",
    "\n",
    "    # Calculate the weighted percentage as a Series. Normally we'd multiply\n",
    "    # the value of each row by the weight in the divisor, however, since\n",
    "    # we're looking at demographic values, each value is essentially 1 (i.e.\n",
    "    # I'm between 18-24 and that only gets counted once).\n",
    "    weighted_percent = (valid_data[weight_column]\n",
    "                        .groupby(valid_data[numeric_column]).sum()\n",
    "                        / valid_data[weight_column].sum() * 100\n",
    "                       ).sort_values(ascending=False)\n",
    "\n",
    "    # Convert the Series to a DataFrame and rename the column\n",
    "    weighted_percentage_df = weighted_percent.reset_index()\n",
    "\n",
    "    # Rename the column to reflect the weighted percent calculation\n",
    "    weighted_percentage_df.columns = [numeric_column, 'weighted_percentage']\n",
    "\n",
    "    return weighted_percentage_df\n",
    "\n",
    "# Function to map integers to strings using the dictionary\n",
    "def map_integers_to_strings(int_list, mapping_dict):\n",
    "    return [mapping_dict.get(i, 'Unknown') for i in int_list]"
   ]
  },
  {
   "cell_type": "markdown",
   "metadata": {
    "id": "zFU-7umS9xpa"
   },
   "source": [
    "Create a hash table used to convert BRFSS ints to their values. You can find these values (including ranges of integers) using the [brfss codebook found on the CDC website](https://www.cdc.gov/brfss/annual_data/annual_2023.html). We'll use the AGEG5YR_ field - a column whose value corresponds to an age range (e.g. 30 - 34)."
   ]
  },
  {
   "cell_type": "code",
   "execution_count": 5,
   "metadata": {
    "id": "9lOd_ztZ8bO_"
   },
   "outputs": [],
   "source": [
    "ageg5yr_int_to_string_map = {\n",
    "    1: '18 - 24',\n",
    "    2: '25 - 29',\n",
    "    3: '30 - 34',\n",
    "    4: '35 - 39',\n",
    "    5: '40 - 44',\n",
    "    6: '45 - 49',\n",
    "    7: '50 - 54',\n",
    "    8: '55 - 59',\n",
    "    9: '60 - 64',\n",
    "    10: '65 - 69',\n",
    "    11: '70 - 74',\n",
    "    12: '75 - 79',\n",
    "    13: '80+',\n",
    "    14: 'N/A'\n",
    "}"
   ]
  },
  {
   "cell_type": "markdown",
   "metadata": {
    "id": "HpZ8guRm-50w"
   },
   "source": [
    "Calculate the frequency and percentage of each row, unweighted. We'll also map the string values from the integer values for a more informative result."
   ]
  },
  {
   "cell_type": "code",
   "execution_count": 6,
   "metadata": {
    "colab": {
     "base_uri": "https://localhost:8080/"
    },
    "executionInfo": {
     "elapsed": 5,
     "status": "ok",
     "timestamp": 1732315541812,
     "user": {
      "displayName": "",
      "userId": ""
     },
     "user_tz": 420
    },
    "id": "QEm1Pc1j-565",
    "outputId": "494728e8-2033-447b-d071-e60e71a26362"
   },
   "outputs": [
    {
     "name": "stdout",
     "output_type": "stream",
     "text": [
      "  value_label  frequency  percentage\n",
      "0         80+         30        30.0\n",
      "1     75 - 79         21        21.0\n",
      "2     70 - 74         18        18.0\n",
      "3     65 - 69         11        11.0\n",
      "4     60 - 64          9         9.0\n",
      "5     55 - 59          3         3.0\n",
      "6     45 - 49          3         3.0\n",
      "7     35 - 39          3         3.0\n",
      "8     40 - 44          1         1.0\n",
      "9     50 - 54          1         1.0\n"
     ]
    }
   ],
   "source": [
    "# Map the description values with the integer values\n",
    "df['ageg5yr_mapped'] = df['_AGEG5YR'].map(ageg5yr_int_to_string_map)\n",
    "\n",
    "# Frequency calculation\n",
    "frequency = df['ageg5yr_mapped'].value_counts().reset_index()\n",
    "frequency.columns = ['value_label', 'frequency']\n",
    "\n",
    "# Total count for percentage calculation\n",
    "total_count = len(df)\n",
    "frequency['percentage'] = (frequency['frequency'] / total_count) * 100\n",
    "\n",
    "print(frequency)"
   ]
  },
  {
   "cell_type": "markdown",
   "metadata": {
    "id": "xKlMHksdaxyY"
   },
   "source": [
    "You can see how the mapping works! Next, we'll calculate the weighted percentages using our weighted_percentage function. We'll also map the integer values to the string values using our hash table, for a more informative result."
   ]
  },
  {
   "cell_type": "code",
   "execution_count": 7,
   "metadata": {
    "colab": {
     "base_uri": "https://localhost:8080/"
    },
    "executionInfo": {
     "elapsed": 5,
     "status": "ok",
     "timestamp": 1732315541813,
     "user": {
      "displayName": "",
      "userId": ""
     },
     "user_tz": 420
    },
    "id": "110Hxbu0ax3e",
    "outputId": "c4b5df7d-88db-4632-a576-4fcd5e7e6aa1"
   },
   "outputs": [
    {
     "name": "stdout",
     "output_type": "stream",
     "text": [
      "  value_label  weighted_percentage\n",
      "0     70 - 74            24.925948\n",
      "1         80+            19.059479\n",
      "2     75 - 79            17.591331\n",
      "3     60 - 64            16.001311\n",
      "4     65 - 69             7.920657\n",
      "5     45 - 49             5.806018\n",
      "6     35 - 39             3.400012\n",
      "7     40 - 44             2.034447\n",
      "8     55 - 59             1.996186\n",
      "9     50 - 54             1.264611\n"
     ]
    }
   ],
   "source": [
    "weighted_percentage_result = weighted_percentage(df, '_AGEG5YR', '_LLCPWT')\n",
    "weighted_percentage_result['value_label'] = weighted_percentage_result['_AGEG5YR'].map(ageg5yr_int_to_string_map)\n",
    "weighted_percentage_result = weighted_percentage_result[['value_label', 'weighted_percentage']]\n",
    "\n",
    "print(weighted_percentage_result)"
   ]
  },
  {
   "cell_type": "markdown",
   "metadata": {
    "id": "XSxKnmtFbJZV"
   },
   "source": [
    "We got out weighted percentages! You can see how they differ from the unweighted ones. Next, we'll merge the unweighted table with the weighted table"
   ]
  },
  {
   "cell_type": "code",
   "execution_count": 8,
   "metadata": {
    "colab": {
     "base_uri": "https://localhost:8080/"
    },
    "executionInfo": {
     "elapsed": 4,
     "status": "ok",
     "timestamp": 1732315541813,
     "user": {
      "displayName": "",
      "userId": ""
     },
     "user_tz": 420
    },
    "id": "uXTrW2ebbJpt",
    "outputId": "0d5a1b6b-2024-48db-a4c1-0185758c6478"
   },
   "outputs": [
    {
     "name": "stdout",
     "output_type": "stream",
     "text": [
      "  value_label  frequency  percentage  weighted_percentage\n",
      "0         80+         30        30.0            19.059479\n",
      "1     75 - 79         21        21.0            17.591331\n",
      "2     70 - 74         18        18.0            24.925948\n",
      "3     65 - 69         11        11.0             7.920657\n",
      "4     60 - 64          9         9.0            16.001311\n",
      "5     55 - 59          3         3.0             1.996186\n",
      "6     45 - 49          3         3.0             5.806018\n",
      "7     35 - 39          3         3.0             3.400012\n",
      "8     40 - 44          1         1.0             2.034447\n",
      "9     50 - 54          1         1.0             1.264611\n"
     ]
    }
   ],
   "source": [
    "# Merge the frequency data with the weighted percentages\n",
    "result = pd.merge(frequency, weighted_percentage_result, on='value_label')\n",
    "print(result)"
   ]
  },
  {
   "cell_type": "markdown",
   "metadata": {
    "id": "9Nzk6NRHb8Bd"
   },
   "source": [
    "Next, we'll use the merged table to visualize the difference between weighted and unweighted percentages using seaborn and matplotlib."
   ]
  },
  {
   "cell_type": "code",
   "execution_count": 9,
   "metadata": {},
   "outputs": [
    {
     "name": "stdout",
     "output_type": "stream",
     "text": [
      "   value_label                 Type      Value\n",
      "0          80+           percentage  30.000000\n",
      "1      75 - 79           percentage  21.000000\n",
      "2      70 - 74           percentage  18.000000\n",
      "3      65 - 69           percentage  11.000000\n",
      "4      60 - 64           percentage   9.000000\n",
      "5      55 - 59           percentage   3.000000\n",
      "6      45 - 49           percentage   3.000000\n",
      "7      35 - 39           percentage   3.000000\n",
      "8      40 - 44           percentage   1.000000\n",
      "9      50 - 54           percentage   1.000000\n",
      "10         80+  weighted_percentage  19.059479\n",
      "11     75 - 79  weighted_percentage  17.591331\n",
      "12     70 - 74  weighted_percentage  24.925948\n",
      "13     65 - 69  weighted_percentage   7.920657\n",
      "14     60 - 64  weighted_percentage  16.001311\n",
      "15     55 - 59  weighted_percentage   1.996186\n",
      "16     45 - 49  weighted_percentage   5.806018\n",
      "17     35 - 39  weighted_percentage   3.400012\n",
      "18     40 - 44  weighted_percentage   2.034447\n",
      "19     50 - 54  weighted_percentage   1.264611\n"
     ]
    },
    {
     "data": {
      "image/png": "[encoded data removed]",
      "text/plain": [
       "<Figure size 1400x700 with 1 Axes>"
      ]
     },
     "metadata": {},
     "output_type": "display_data"
    }
   ],
   "source": [
    "import matplotlib.pyplot as plt\n",
    "import seaborn as sns\n",
    "\n",
    "sns.set_theme(style=\"whitegrid\")\n",
    "\n",
    "# Reshape the data for grouped bar plot\n",
    "df_melted = result.melt(id_vars=\"value_label\", value_vars=[\"percentage\", \"weighted_percentage\"], \n",
    "                    var_name=\"Type\", value_name=\"Value\")\n",
    "print(df_melted)\n",
    "# Plot: Grouped Bar Chart\n",
    "plt.figure(figsize=(14, 7))\n",
    "sns.barplot(x=\"value_label\", y=\"Value\", hue=\"Type\", data=df_melted, palette=\"pastel\")\n",
    "plt.title(\"Comparison of Percentage and Weighted Percentage by Value Label\", fontsize=16)\n",
    "plt.xlabel(\"Value Label\", fontsize=14)\n",
    "plt.ylabel(\"Percentage\", fontsize=14)\n",
    "plt.xticks(rotation=45, fontsize=12)\n",
    "plt.legend(title=\"Type\", fontsize=12)\n",
    "plt.tight_layout()\n",
    "plt.show()"
   ]
  },
  {
   "cell_type": "markdown",
   "metadata": {},
   "source": [
    "You can see how different the weighted vs unweighted values are!"
   ]
  }
 ],
 "metadata": {
  "colab": {
   "cell_execution_strategy": "setup",
   "name": "Applying BRFSS Weights Example",
   "provenance": []
  },
  "kernelspec": {
   "display_name": "Python 3 (ipykernel)",
   "language": "python",
   "name": "python3"
  },
  "language_info": {
   "codemirror_mode": {
    "name": "ipython",
    "version": 3
   },
   "file_extension": ".py",
   "mimetype": "text/x-python",
   "name": "python",
   "nbconvert_exporter": "python",
   "pygments_lexer": "ipython3",
   "version": "3.10.3"
  }
 },
 "nbformat": 4,
 "nbformat_minor": 4
}
