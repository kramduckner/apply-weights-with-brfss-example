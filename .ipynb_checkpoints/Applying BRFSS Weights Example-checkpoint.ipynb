{
 "cells": [
  {
   "cell_type": "markdown",
   "metadata": {
    "id": "Cy2wtsoz7lOy"
   },
   "source": [
    "\n",
    "#Applying BRFSS Weights Example"
   ]
  },
  {
   "cell_type": "markdown",
   "metadata": {
    "id": "7DkbKTtKCwQu"
   },
   "source": [
    "This notebook demonstrates how to convert BRFSS data from their integers to strings and apply weights to calculate weighted percentages from a demographic column. We've already injected the BRFSS data into a [BigQuery table](https://console.cloud.google.com/bigquery?ws=!1m5!1m4!4m3!1srci-flotus!2sCDC!3sbrfss_2022) through the '+ Add' button via a DataPrep job. We downloaded the data from the CDC BRFSS website. It required a little bit of cleanup - we had to modify a couple of column names to remove some special characters.\n",
    "The end results gets written to a [BigQuery table](https://console.cloud.google.com/bigquery?ws=!1m5!1m4!4m3!1srci-flotus!2sCDC!3sweighted_demo).\n",
    "\n",
    "\n"
   ]
  },
  {
   "cell_type": "markdown",
   "metadata": {
    "id": "xdkSCUGB_HuC"
   },
   "source": [
    "Install required packages"
   ]
  },
  {
   "cell_type": "code",
   "execution_count": 27,
   "metadata": {
    "colab": {
     "base_uri": "https://localhost:8080/"
    },
    "executionInfo": {
     "elapsed": 7245,
     "status": "ok",
     "timestamp": 1732315531375,
     "user": {
      "displayName": "",
      "userId": ""
     },
     "user_tz": 420
    },
    "id": "ssNOvHPK-7hx",
    "outputId": "e92d1901-1a2a-45b4-a4d2-4a1570c9b766"
   },
   "outputs": [
    {
     "name": "stdout",
     "output_type": "stream",
     "text": [
      "Requirement already satisfied: pandas in /Users/markbuckner/.pyenv/versions/3.10.3/lib/python3.10/site-packages (2.2.2)\n",
      "Requirement already satisfied: pyreadstat in /Users/markbuckner/.pyenv/versions/3.10.3/lib/python3.10/site-packages (1.2.8)\n",
      "Requirement already satisfied: matplotlib in /Users/markbuckner/.pyenv/versions/3.10.3/lib/python3.10/site-packages (3.9.2)\n",
      "Collecting seaborn\n",
      "  Downloading seaborn-0.13.2-py3-none-any.whl.metadata (5.4 kB)\n",
      "Requirement already satisfied: numpy>=1.22.4 in /Users/markbuckner/.pyenv/versions/3.10.3/lib/python3.10/site-packages (from pandas) (2.1.1)\n",
      "Requirement already satisfied: python-dateutil>=2.8.2 in /Users/markbuckner/.pyenv/versions/3.10.3/lib/python3.10/site-packages (from pandas) (2.9.0.post0)\n",
      "Requirement already satisfied: pytz>=2020.1 in /Users/markbuckner/.pyenv/versions/3.10.3/lib/python3.10/site-packages (from pandas) (2024.2)\n",
      "Requirement already satisfied: tzdata>=2022.7 in /Users/markbuckner/.pyenv/versions/3.10.3/lib/python3.10/site-packages (from pandas) (2024.1)\n",
      "Requirement already satisfied: contourpy>=1.0.1 in /Users/markbuckner/.pyenv/versions/3.10.3/lib/python3.10/site-packages (from matplotlib) (1.3.0)\n",
      "Requirement already satisfied: cycler>=0.10 in /Users/markbuckner/.pyenv/versions/3.10.3/lib/python3.10/site-packages (from matplotlib) (0.12.1)\n",
      "Requirement already satisfied: fonttools>=4.22.0 in /Users/markbuckner/.pyenv/versions/3.10.3/lib/python3.10/site-packages (from matplotlib) (4.53.1)\n",
      "Requirement already satisfied: kiwisolver>=1.3.1 in /Users/markbuckner/.pyenv/versions/3.10.3/lib/python3.10/site-packages (from matplotlib) (1.4.7)\n",
      "Requirement already satisfied: packaging>=20.0 in /Users/markbuckner/.pyenv/versions/3.10.3/lib/python3.10/site-packages (from matplotlib) (23.2)\n",
      "Requirement already satisfied: pillow>=8 in /Users/markbuckner/.pyenv/versions/3.10.3/lib/python3.10/site-packages (from matplotlib) (10.2.0)\n",
      "Requirement already satisfied: pyparsing>=2.3.1 in /Users/markbuckner/.pyenv/versions/3.10.3/lib/python3.10/site-packages (from matplotlib) (3.1.4)\n",
      "Requirement already satisfied: six>=1.5 in /Users/markbuckner/.pyenv/versions/3.10.3/lib/python3.10/site-packages (from python-dateutil>=2.8.2->pandas) (1.16.0)\n",
      "Downloading seaborn-0.13.2-py3-none-any.whl (294 kB)\n",
      "Installing collected packages: seaborn\n",
      "Successfully installed seaborn-0.13.2\n",
      "\n",
      "\u001b[1m[\u001b[0m\u001b[34;49mnotice\u001b[0m\u001b[1;39;49m]\u001b[0m\u001b[39;49m A new release of pip is available: \u001b[0m\u001b[31;49m24.2\u001b[0m\u001b[39;49m -> \u001b[0m\u001b[32;49m24.3.1\u001b[0m\n",
      "\u001b[1m[\u001b[0m\u001b[34;49mnotice\u001b[0m\u001b[1;39;49m]\u001b[0m\u001b[39;49m To update, run: \u001b[0m\u001b[32;49mpip install --upgrade pip\u001b[0m\n"
     ]
    }
   ],
   "source": [
    "!pip install pandas pyreadstat matplotlib seaborn"
   ]
  },
  {
   "cell_type": "code",
   "execution_count": 17,
   "metadata": {},
   "outputs": [
    {
     "name": "stdout",
     "output_type": "stream",
     "text": [
      "Successfully converted /Users/markbuckner/Leisure/brfssApplyWeights/LLCP2023.XPT  to /Users/markbuckner/Leisure/brfssApplyWeights/LLCP2023.csv\n",
      "\n",
      "Dataset Information:\n",
      "Total rows: 433323\n",
      "Total columns: 350\n",
      "\n",
      "Column names:\n",
      "['_STATE', 'FMONTH', 'IDATE', 'IMONTH', 'IDAY', 'IYEAR', 'DISPCODE', 'SEQNO', '_PSU', 'CTELENM1', 'PVTRESD1', 'COLGHOUS', 'STATERE1', 'CELPHON1', 'LADULT1', 'NUMADULT', 'RESPSLC1', 'LANDSEX2', 'LNDSXBRT', 'SAFETIME', 'CTELNUM1', 'CELLFON5', 'CADULT1', 'CELLSEX2', 'CELSXBRT', 'PVTRESD3', 'CCLGHOUS', 'CSTATE1', 'LANDLINE', 'HHADULT', 'SEXVAR', 'GENHLTH', 'PHYSHLTH', 'MENTHLTH', 'POORHLTH', 'PRIMINS1', 'PERSDOC3', 'MEDCOST1', 'CHECKUP1', 'EXERANY2', 'EXRACT12', 'EXEROFT1', 'EXERHMM1', 'EXRACT22', 'EXEROFT2', 'EXERHMM2', 'STRENGTH', 'BPHIGH6', 'BPMEDS1', 'CHOLCHK3', 'TOLDHI3', 'CHOLMED3', 'CVDINFR4', 'CVDCRHD4', 'CVDSTRK3', 'ASTHMA3', 'ASTHNOW', 'CHCSCNC1', 'CHCOCNC1', 'CHCCOPD3', 'ADDEPEV3', 'CHCKDNY2', 'HAVARTH4', 'DIABETE4', 'DIABAGE4', 'MARITAL', 'EDUCA', 'RENTHOM1', 'NUMHHOL4', 'NUMPHON4', 'CPDEMO1C', 'VETERAN3', 'EMPLOY1', 'CHILDREN', 'INCOME3', 'PREGNANT', 'WEIGHT2', 'HEIGHT3', 'DEAF', 'BLIND', 'DECIDE', 'DIFFWALK', 'DIFFDRES', 'DIFFALON', 'FALL12MN', 'FALLINJ5', 'SMOKE100', 'SMOKDAY2', 'USENOW3', 'ECIGNOW2', 'ALCDAY4', 'AVEDRNK3', 'DRNK3GE5', 'MAXDRNKS', 'FLUSHOT7', 'FLSHTMY3', 'PNEUVAC4', 'SHINGLE2', 'HIVTST7', 'HIVTSTD3', 'SEATBELT', 'DRNKDRI2', 'COVIDPO1', 'COVIDSM1', 'COVIDACT', 'PDIABTS1', 'PREDIAB2', 'DIABTYPE', 'INSULIN1', 'CHKHEMO3', 'EYEEXAM1', 'DIABEYE1', 'DIABEDU1', 'FEETSORE', 'ARTHEXER', 'ARTHEDU', 'LMTJOIN3', 'ARTHDIS2', 'JOINPAI2', 'LCSFIRST', 'LCSLAST', 'LCSNUMCG', 'LCSCTSC1', 'LCSSCNCR', 'LCSCTWHN', 'HADMAM', 'HOWLONG', 'CERVSCRN', 'CRVCLCNC', 'CRVCLPAP', 'CRVCLHPV', 'HADHYST2', 'PSATEST1', 'PSATIME1', 'PCPSARS2', 'PSASUGS1', 'PCSTALK2', 'HADSIGM4', 'COLNSIGM', 'COLNTES1', 'SIGMTES1', 'LASTSIG4', 'COLNCNCR', 'VIRCOLO1', 'VCLNTES2', 'SMALSTOL', 'STOLTEST', 'STOOLDN2', 'BLDSTFIT', 'SDNATES1', 'CNCRDIFF', 'CNCRAGE', 'CNCRTYP2', 'CSRVTRT3', 'CSRVDOC1', 'CSRVSUM', 'CSRVRTRN', 'CSRVINST', 'CSRVINSR', 'CSRVDEIN', 'CSRVCLIN', 'CSRVPAIN', 'CSRVCTL2', 'INDORTAN', 'NUMBURN3', 'SUNPRTCT', 'WKDAYOUT', 'WKENDOUT', 'CIMEMLO1', 'CDWORRY', 'CDDISCU1', 'CDHOUS1', 'CDSOCIA1', 'CAREGIV1', 'CRGVREL4', 'CRGVLNG1', 'CRGVHRS1', 'CRGVPRB3', 'CRGVALZD', 'CRGVPER1', 'CRGVHOU1', 'CRGVEXPT', 'LASTSMK2', 'STOPSMK2', 'MENTCIGS', 'MENTECIG', 'HEATTBCO', 'FIREARM5', 'GUNLOAD', 'LOADULK2', 'HASYMP1', 'HASYMP2', 'HASYMP3', 'HASYMP4', 'HASYMP5', 'HASYMP6', 'STRSYMP1', 'STRSYMP2', 'STRSYMP3', 'STRSYMP4', 'STRSYMP5', 'STRSYMP6', 'FIRSTAID', 'ASPIRIN', 'BIRTHSEX', 'SOMALE', 'SOFEMALE', 'TRNSGNDR', 'MARIJAN1', 'MARJSMOK', 'MARJEAT', 'MARJVAPE', 'MARJDAB', 'MARJOTHR', 'USEMRJN4', 'ACEDEPRS', 'ACEDRINK', 'ACEDRUGS', 'ACEPRISN', 'ACEDIVRC', 'ACEPUNCH', 'ACEHURT1', 'ACESWEAR', 'ACETOUCH', 'ACETTHEM', 'ACEHVSEX', 'ACEADSAF', 'ACEADNED', 'IMFVPLA4', 'HPVADVC4', 'HPVADSHT', 'TETANUS1', 'COVIDVA1', 'COVACGE1', 'COVIDNU2', 'LSATISFY', 'EMTSUPRT', 'SDLONELY', 'SDHEMPLY', 'FOODSTMP', 'SDHFOOD1', 'SDHBILLS', 'SDHUTILS', 'SDHTRNSP', 'SDHSTRE1', 'RRCLASS3', 'RRCOGNT2', 'RRTREAT', 'RRATWRK2', 'RRHCARE4', 'RRPHYSM2', 'RCSGEND1', 'RCSXBRTH', 'RCSRLTN2', 'CASTHDX2', 'CASTHNO2', 'QSTVER', 'QSTLANG', '_METSTAT', '_URBSTAT', 'MSCODE', '_STSTR', '_STRWT', '_RAWRAKE', '_WT2RAKE', '_IMPRACE', '_CHISPNC', '_CRACE1', 'CAGEG', '_CLLCPWT', '_DUALUSE', '_DUALCOR', '_LLCPWT2', '_LLCPWT', '_RFHLTH', '_PHYS14D', '_MENT14D', '_HLTHPL1', '_HCVU653', '_TOTINDA', 'METVL12_', 'METVL22_', 'MAXVO21_', 'FC601_', 'ACTIN13_', 'ACTIN23_', 'PADUR1_', 'PADUR2_', 'PAFREQ1_', 'PAFREQ2_', '_MINAC12', '_MINAC22', 'STRFREQ_', 'PAMISS3_', 'PAMIN13_', 'PAMIN23_', 'PA3MIN_', 'PAVIG13_', 'PAVIG23_', 'PA3VIGM_', '_PACAT3', '_PAINDX3', '_PA150R4', '_PA300R4', '_PA30023', '_PASTRNG', '_PAREC3', '_PASTAE3', '_RFHYPE6', '_CHOLCH3', '_RFCHOL3', '_MICHD', '_LTASTH1', '_CASTHM1', '_ASTHMS1', '_DRDXAR2', '_MRACE1', '_HISPANC', '_RACE', '_RACEG21', '_RACEGR3', '_RACEPRV', '_SEX', '_AGEG5YR', '_AGE65YR', '_AGE80', '_AGE_G', 'HTIN4', 'HTM4', 'WTKG3', '_BMI5', '_BMI5CAT', '_RFBMI5', '_CHLDCNT', '_EDUCAG', '_INCOMG1', '_SMOKER3', '_RFSMOK3', '_CURECI2', 'DRNKANY6', 'DROCDY4_', '_RFBING6', '_DRNKWK2', '_RFDRHV8', '_FLSHOT7', '_PNEUMO3', '_AIDTST4', '_RFSEAT2', '_RFSEAT3', '_DRNKDRV']\n",
      "\n",
      "First few rows:\n",
      "   _STATE  FMONTH     IDATE IMONTH IDAY IYEAR  DISPCODE       SEQNO  \\\n",
      "0     1.0     1.0  03012023     03   01  2023    1100.0  2023000001   \n",
      "1     1.0     1.0  01062023     01   06  2023    1100.0  2023000002   \n",
      "2     1.0     1.0  03082023     03   08  2023    1100.0  2023000003   \n",
      "3     1.0     1.0  03062023     03   06  2023    1100.0  2023000004   \n",
      "4     1.0     1.0  01062023     01   06  2023    1100.0  2023000005   \n",
      "\n",
      "           _PSU  CTELENM1  ...  DROCDY4_  _RFBING6  _DRNKWK2  _RFDRHV8  \\\n",
      "0  2.023000e+09       1.0  ...       0.0       1.0       0.0       1.0   \n",
      "1  2.023000e+09       1.0  ...       0.0       1.0       0.0       1.0   \n",
      "2  2.023000e+09       1.0  ...       0.0       1.0       0.0       1.0   \n",
      "3  2.023000e+09       1.0  ...       0.0       1.0       0.0       1.0   \n",
      "4  2.023000e+09       1.0  ...       7.0       1.0      47.0       1.0   \n",
      "\n",
      "   _FLSHOT7  _PNEUMO3  _AIDTST4  _RFSEAT2  _RFSEAT3  _DRNKDRV  \n",
      "0       2.0       2.0       2.0       1.0       1.0       9.0  \n",
      "1       1.0       1.0       2.0       1.0       1.0       9.0  \n",
      "2       1.0       1.0       2.0       1.0       1.0       9.0  \n",
      "3       1.0       1.0       1.0       1.0       1.0       9.0  \n",
      "4       2.0       1.0       2.0       1.0       1.0       2.0  \n",
      "\n",
      "[5 rows x 350 columns]\n",
      "\n",
      "Column details:\n",
      "<class 'pandas.core.frame.DataFrame'>\n",
      "RangeIndex: 433323 entries, 0 to 433322\n",
      "Columns: 350 entries, _STATE to _DRNKDRV\n",
      "dtypes: float64(345), object(5)\n",
      "memory usage: 1.1+ GB\n"
     ]
    }
   ],
   "source": [
    "import pyreadstat\n",
    "import os\n",
    "import pandas as pd\n",
    "\n",
    "def convert_brfss_xpt_to_csv(xpt_file_path, output_dir=None):\n",
    "    \"\"\"\n",
    "    Convert CDC BRFSS XPT file to CSV with robust encoding handling\n",
    "    \n",
    "    Parameters:\n",
    "    -----------\n",
    "    xpt_file_path : str\n",
    "        Path to the BRFSS XPT file\n",
    "    output_dir : str, optional\n",
    "        Directory to save the output CSV\n",
    "    \n",
    "    Returns:\n",
    "    --------\n",
    "    pandas.DataFrame: Converted data\n",
    "    \"\"\"\n",
    "    # Resolve the full path\n",
    "    full_xpt_path = os.path.abspath(os.path.expanduser(xpt_file_path))\n",
    "    \n",
    "    # Determine output directory\n",
    "    if output_dir is None:\n",
    "        output_dir = os.path.dirname(full_xpt_path)\n",
    "    \n",
    "    # Create output filename\n",
    "    base_filename = os.path.basename(full_xpt_path)\n",
    "    output_filename = os.path.splitext(base_filename)[0] + '.csv'\n",
    "    output_path = os.path.join(output_dir, output_filename)\n",
    "    \n",
    "    try:\n",
    "        df, meta = pyreadstat.read_xport(full_xpt_path, encoding='cp1252')\n",
    "            \n",
    "        # Save to CSV with UTF-8 encoding\n",
    "        df.to_csv(output_path, index=False, encoding='utf-8')\n",
    "            \n",
    "        print(f\"Successfully converted {full_xpt_path} to {output_path}\")\n",
    "            \n",
    "        # Print some basic information\n",
    "        print(\"\\nDataset Information:\")\n",
    "        print(f\"Total rows: {len(df)}\")\n",
    "        print(f\"Total columns: {len(df.columns)}\")\n",
    "        print(\"\\nColumn names:\")\n",
    "        print(df.columns.tolist())\n",
    "            \n",
    "        return df\n",
    "\n",
    "# Attempt to convert the file\n",
    "df = convert_brfss_xpt_to_csv('./LLCP2023.XPT')\n",
    "\n",
    "# Optional: quick peek at the data if conversion succeeds\n",
    "if df is not None:\n",
    "    print(\"\\nFirst few rows:\")\n",
    "    print(df.head())\n",
    "    print(\"\\nColumn details:\")\n",
    "    df.info()"
   ]
  },
  {
   "cell_type": "markdown",
   "metadata": {
    "id": "ZED0n1fi9mV_"
   },
   "source": [
    "Define query"
   ]
  },
  {
   "cell_type": "markdown",
   "metadata": {
    "id": "zFU-7umS9xpa"
   },
   "source": [
    "Create a map to convert BRFSS ints to their values. You can find these values (including ranges of integers) using the [brfss codebook found on the CDC website](https://www.cdc.gov/brfss/annual_data/annual_2022.html)."
   ]
  },
  {
   "cell_type": "code",
   "execution_count": 18,
   "metadata": {
    "id": "9lOd_ztZ8bO_"
   },
   "outputs": [],
   "source": [
    "int_values = [1, 2, 3, 4, 5, 6, 7, 8, 9, 10, 11, 12, 13, 14]\n",
    "int_to_string_map = {\n",
    "    1: '18 - 24',\n",
    "    2: '25 - 29',\n",
    "    3: '30 - 34',\n",
    "    4: '35 - 39',\n",
    "    5: '40 - 44',\n",
    "    6: '45 - 49',\n",
    "    7: '50 - 54',\n",
    "    8: '55 - 59',\n",
    "    9: '60 - 64',\n",
    "    10: '65 - 69',\n",
    "    11: '70 - 74',\n",
    "    12: '75 - 79',\n",
    "    13: '80+',\n",
    "    14: 'N/A'\n",
    "}"
   ]
  },
  {
   "cell_type": "markdown",
   "metadata": {
    "id": "RUVeZQdH-e6b"
   },
   "source": [
    "Define our functions for calculating weighted percentages and mapping the values using our maps above.\n",
    "\n"
   ]
  },
  {
   "cell_type": "code",
   "execution_count": 19,
   "metadata": {
    "id": "V1JXtKsT-fPY"
   },
   "outputs": [],
   "source": [
    "def weighted_percentage(data, numeric_column, weight_column):\n",
    "    valid_data = data.dropna(subset=[numeric_column])\n",
    "\n",
    "    # Calculate the weighted percentage as a Series. Normally we'd multiply\n",
    "    # the value of each row by the weight in the divisor, however, since\n",
    "    # we're looking at demographic values, each value is essentially 1 (i.e.)\n",
    "    # I'm between 18-24 and that only gets counted once.\n",
    "    weighted_percent = (valid_data[weight_column]\n",
    "                        .groupby(valid_data[numeric_column]).sum()\n",
    "                        / valid_data[weight_column].sum() * 100\n",
    "                       ).sort_values(ascending=False)\n",
    "\n",
    "    # Convert the Series to a DataFrame and rename the column\n",
    "    weighted_percentage_df = weighted_percent.reset_index()\n",
    "\n",
    "    # Rename the column to reflect the weighted percent calculation\n",
    "    weighted_percentage_df.columns = [numeric_column, 'weighted_percentage']\n",
    "\n",
    "    return weighted_percentage_df\n",
    "\n",
    "# Function to map integers to strings using the dictionary\n",
    "def map_integers_to_strings(int_list, mapping_dict):\n",
    "    return [mapping_dict.get(i, 'Unknown') for i in int_list]"
   ]
  },
  {
   "cell_type": "markdown",
   "metadata": {
    "id": "HpZ8guRm-50w"
   },
   "source": [
    "Calculate the frequency and percentage of each row, unweighted. We'll also map the description values from the integer values for a more informative result. We'll choose \"AGEG5YR\" - a column whose value corresponds to an age range (e.g. 30 - 34)."
   ]
  },
  {
   "cell_type": "code",
   "execution_count": 22,
   "metadata": {
    "colab": {
     "base_uri": "https://localhost:8080/"
    },
    "executionInfo": {
     "elapsed": 5,
     "status": "ok",
     "timestamp": 1732315541812,
     "user": {
      "displayName": "",
      "userId": ""
     },
     "user_tz": 420
    },
    "id": "QEm1Pc1j-565",
    "outputId": "494728e8-2033-447b-d071-e60e71a26362"
   },
   "outputs": [
    {
     "name": "stdout",
     "output_type": "stream",
     "text": [
      "   value_label  frequency  percentage\n",
      "0      65 - 69      46099   10.638484\n",
      "1      70 - 74      43533   10.046316\n",
      "2      60 - 64      41974    9.686539\n",
      "3          80+      38869    8.969983\n",
      "4      75 - 79      34543    7.971652\n",
      "5      55 - 59      34219    7.896881\n",
      "6      50 - 54      31291    7.221172\n",
      "7      40 - 44      28463    6.568541\n",
      "8      35 - 39      27153    6.266226\n",
      "9      45 - 49      27070    6.247072\n",
      "10     18 - 24      26280    6.064760\n",
      "11     30 - 34      24803    5.723906\n",
      "12     25 - 29      21247    4.903271\n",
      "13         N/A       7779    1.795197\n"
     ]
    }
   ],
   "source": [
    "# Map the description values with the integer values\n",
    "df['ageg5yr_mapped'] = df['_AGEG5YR'].map(int_to_string_map)\n",
    "\n",
    "# Frequency calculation\n",
    "frequency = df['ageg5yr_mapped'].value_counts().reset_index()\n",
    "frequency.columns = ['value_label', 'frequency']\n",
    "\n",
    "# Total count for percentage calculation\n",
    "total_count = len(df)\n",
    "frequency['percentage'] = (frequency['frequency'] / total_count) * 100\n",
    "\n",
    "print(frequency)"
   ]
  },
  {
   "cell_type": "markdown",
   "metadata": {
    "id": "xKlMHksdaxyY"
   },
   "source": [
    "Calculate the weighted percentages using our function. We'll also map the integer values to the description values using our maps, for a more informative result."
   ]
  },
  {
   "cell_type": "code",
   "execution_count": 25,
   "metadata": {
    "colab": {
     "base_uri": "https://localhost:8080/"
    },
    "executionInfo": {
     "elapsed": 5,
     "status": "ok",
     "timestamp": 1732315541813,
     "user": {
      "displayName": "",
      "userId": ""
     },
     "user_tz": 420
    },
    "id": "110Hxbu0ax3e",
    "outputId": "c4b5df7d-88db-4632-a576-4fcd5e7e6aa1"
   },
   "outputs": [
    {
     "name": "stdout",
     "output_type": "stream",
     "text": [
      "   value_label  weighted_percentage\n",
      "0      18 - 24            12.374212\n",
      "1      30 - 34             9.111442\n",
      "2      60 - 64             8.603368\n",
      "3      40 - 44             8.470604\n",
      "4      50 - 54             7.832028\n",
      "5      35 - 39             7.619361\n",
      "6      25 - 29             7.375304\n",
      "7      55 - 59             7.106125\n",
      "8      65 - 69             6.940078\n",
      "9      70 - 74             6.480317\n",
      "10     45 - 49             6.448980\n",
      "11         80+             5.244987\n",
      "12     75 - 79             4.552666\n",
      "13         N/A             1.840527\n"
     ]
    }
   ],
   "source": [
    "# Use the weighted_percentage function, but pass the original numeric column\n",
    "weighted_percentage_result = weighted_percentage(df, '_AGEG5YR', '_LLCPWT')\n",
    "weighted_percentage_result['value_label'] = weighted_percentage_result['_AGEG5YR'].map(int_to_string_map)\n",
    "weighted_percentage_result = weighted_percentage_result[['value_label', 'weighted_percentage']]\n",
    "\n",
    "print(weighted_percentage_result)\n"
   ]
  },
  {
   "cell_type": "markdown",
   "metadata": {
    "id": "XSxKnmtFbJZV"
   },
   "source": [
    "Merge the frequency table with the weighted percentages table"
   ]
  },
  {
   "cell_type": "code",
   "execution_count": 26,
   "metadata": {
    "colab": {
     "base_uri": "https://localhost:8080/"
    },
    "executionInfo": {
     "elapsed": 4,
     "status": "ok",
     "timestamp": 1732315541813,
     "user": {
      "displayName": "",
      "userId": ""
     },
     "user_tz": 420
    },
    "id": "uXTrW2ebbJpt",
    "outputId": "0d5a1b6b-2024-48db-a4c1-0185758c6478"
   },
   "outputs": [
    {
     "name": "stdout",
     "output_type": "stream",
     "text": [
      "   value_label  frequency  percentage  weighted_percentage\n",
      "0      65 - 69      46099   10.638484             6.940078\n",
      "1      70 - 74      43533   10.046316             6.480317\n",
      "2      60 - 64      41974    9.686539             8.603368\n",
      "3          80+      38869    8.969983             5.244987\n",
      "4      75 - 79      34543    7.971652             4.552666\n",
      "5      55 - 59      34219    7.896881             7.106125\n",
      "6      50 - 54      31291    7.221172             7.832028\n",
      "7      40 - 44      28463    6.568541             8.470604\n",
      "8      35 - 39      27153    6.266226             7.619361\n",
      "9      45 - 49      27070    6.247072             6.448980\n",
      "10     18 - 24      26280    6.064760            12.374212\n",
      "11     30 - 34      24803    5.723906             9.111442\n",
      "12     25 - 29      21247    4.903271             7.375304\n",
      "13         N/A       7779    1.795197             1.840527\n"
     ]
    }
   ],
   "source": [
    "# Merge the frequency data with the weighted percentages\n",
    "result = pd.merge(frequency, weighted_percentage_result, on='value_label')\n",
    "print(result)"
   ]
  },
  {
   "cell_type": "code",
   "execution_count": null,
   "metadata": {},
   "outputs": [],
   "source": []
  },
  {
   "cell_type": "markdown",
   "metadata": {
    "id": "9Nzk6NRHb8Bd"
   },
   "source": [
    "We've now fetched data out of BigQuery and applied weights to demographic data! As you can see, the weighted percentages indicate that the sample set skewed older than the actual population."
   ]
  },
  {
   "cell_type": "code",
   "execution_count": 39,
   "metadata": {},
   "outputs": [
    {
     "name": "stdout",
     "output_type": "stream",
     "text": [
      "   value_label                 Type      Value\n",
      "0      65 - 69           percentage  10.638484\n",
      "1      70 - 74           percentage  10.046316\n",
      "2      60 - 64           percentage   9.686539\n",
      "3          80+           percentage   8.969983\n",
      "4      75 - 79           percentage   7.971652\n",
      "5      55 - 59           percentage   7.896881\n",
      "6      50 - 54           percentage   7.221172\n",
      "7      40 - 44           percentage   6.568541\n",
      "8      35 - 39           percentage   6.266226\n",
      "9      45 - 49           percentage   6.247072\n",
      "10     18 - 24           percentage   6.064760\n",
      "11     30 - 34           percentage   5.723906\n",
      "12     25 - 29           percentage   4.903271\n",
      "13         N/A           percentage   1.795197\n",
      "14     65 - 69  weighted_percentage   6.940078\n",
      "15     70 - 74  weighted_percentage   6.480317\n",
      "16     60 - 64  weighted_percentage   8.603368\n",
      "17         80+  weighted_percentage   5.244987\n",
      "18     75 - 79  weighted_percentage   4.552666\n",
      "19     55 - 59  weighted_percentage   7.106125\n",
      "20     50 - 54  weighted_percentage   7.832028\n",
      "21     40 - 44  weighted_percentage   8.470604\n",
      "22     35 - 39  weighted_percentage   7.619361\n",
      "23     45 - 49  weighted_percentage   6.448980\n",
      "24     18 - 24  weighted_percentage  12.374212\n",
      "25     30 - 34  weighted_percentage   9.111442\n",
      "26     25 - 29  weighted_percentage   7.375304\n",
      "27         N/A  weighted_percentage   1.840527\n"
     ]
    },
    {
     "data": {
      "image/png": "[encoded data removed]",
      "text/plain": [
       "<Figure size 1400x700 with 1 Axes>"
      ]
     },
     "metadata": {},
     "output_type": "display_data"
    }
   ],
   "source": [
    "import matplotlib.pyplot as plt\n",
    "import seaborn as sns\n",
    "\n",
    "sns.set_theme(style=\"whitegrid\")\n",
    "\n",
    "# Reshape the data for grouped bar plot\n",
    "df_melted = result.melt(id_vars=\"value_label\", value_vars=[\"percentage\", \"weighted_percentage\"], \n",
    "                    var_name=\"Type\", value_name=\"Value\")\n",
    "print(df_melted)\n",
    "# Plot: Grouped Bar Chart\n",
    "plt.figure(figsize=(14, 7))\n",
    "sns.barplot(x=\"value_label\", y=\"Value\", hue=\"Type\", data=df_melted, palette=\"pastel\")\n",
    "plt.title(\"Comparison of Percentage and Weighted Percentage by Value Label\", fontsize=16)\n",
    "plt.xlabel(\"Value Label\", fontsize=14)\n",
    "plt.ylabel(\"Percentage\", fontsize=14)\n",
    "plt.xticks(rotation=45, fontsize=12)\n",
    "plt.legend(title=\"Type\", fontsize=12)\n",
    "plt.tight_layout()\n",
    "plt.show()"
   ]
  },
  {
   "cell_type": "code",
   "execution_count": null,
   "metadata": {},
   "outputs": [],
   "source": []
  }
 ],
 "metadata": {
  "colab": {
   "cell_execution_strategy": "setup",
   "name": "Applying BRFSS Weights Example",
   "provenance": []
  },
  "kernelspec": {
   "display_name": "Python 3 (ipykernel)",
   "language": "python",
   "name": "python3"
  },
  "language_info": {
   "codemirror_mode": {
    "name": "ipython",
    "version": 3
   },
   "file_extension": ".py",
   "mimetype": "text/x-python",
   "name": "python",
   "nbconvert_exporter": "python",
   "pygments_lexer": "ipython3",
   "version": "3.10.3"
  }
 },
 "nbformat": 4,
 "nbformat_minor": 4
}
